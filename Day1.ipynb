{
 "cells": [
  {
   "cell_type": "code",
   "execution_count": 5,
   "metadata": {},
   "outputs": [
    {
     "name": "stdout",
     "output_type": "stream",
     "text": [
      "Collecting pandas\n",
      "  Using cached pandas-2.1.3-cp312-cp312-win_amd64.whl.metadata (18 kB)\n",
      "Collecting numpy<2,>=1.26.0 (from pandas)\n",
      "  Downloading numpy-1.26.2-cp312-cp312-win_amd64.whl.metadata (61 kB)\n",
      "     ---------------------------------------- 0.0/61.2 kB ? eta -:--:--\n",
      "     ------------ ------------------------- 20.5/61.2 kB 330.3 kB/s eta 0:00:01\n",
      "     ------------------------------- ------ 51.2/61.2 kB 660.6 kB/s eta 0:00:01\n",
      "     -------------------------------------- 61.2/61.2 kB 653.5 kB/s eta 0:00:00\n",
      "Requirement already satisfied: python-dateutil>=2.8.2 in c:\\users\\c\\documents\\adventofcode\\2023\\.venv\\lib\\site-packages (from pandas) (2.8.2)\n",
      "Collecting pytz>=2020.1 (from pandas)\n",
      "  Using cached pytz-2023.3.post1-py2.py3-none-any.whl.metadata (22 kB)\n",
      "Collecting tzdata>=2022.1 (from pandas)\n",
      "  Using cached tzdata-2023.3-py2.py3-none-any.whl (341 kB)\n",
      "Requirement already satisfied: six>=1.5 in c:\\users\\c\\documents\\adventofcode\\2023\\.venv\\lib\\site-packages (from python-dateutil>=2.8.2->pandas) (1.16.0)\n",
      "Using cached pandas-2.1.3-cp312-cp312-win_amd64.whl (10.5 MB)\n",
      "Downloading numpy-1.26.2-cp312-cp312-win_amd64.whl (15.5 MB)\n",
      "   ---------------------------------------- 0.0/15.5 MB ? eta -:--:--\n",
      "   - -------------------------------------- 0.5/15.5 MB 15.5 MB/s eta 0:00:01\n",
      "   --- ------------------------------------ 1.3/15.5 MB 16.4 MB/s eta 0:00:01\n",
      "   ----- ---------------------------------- 2.2/15.5 MB 17.1 MB/s eta 0:00:01\n",
      "   ------- -------------------------------- 2.9/15.5 MB 16.9 MB/s eta 0:00:01\n",
      "   --------- ------------------------------ 3.7/15.5 MB 17.1 MB/s eta 0:00:01\n",
      "   ----------- ---------------------------- 4.5/15.5 MB 17.1 MB/s eta 0:00:01\n",
      "   ------------- -------------------------- 5.4/15.5 MB 17.1 MB/s eta 0:00:01\n",
      "   --------------- ------------------------ 6.2/15.5 MB 17.2 MB/s eta 0:00:01\n",
      "   ------------------ --------------------- 7.1/15.5 MB 17.4 MB/s eta 0:00:01\n",
      "   -------------------- ------------------- 8.0/15.5 MB 17.5 MB/s eta 0:00:01\n",
      "   ---------------------- ----------------- 8.9/15.5 MB 17.7 MB/s eta 0:00:01\n",
      "   ------------------------- -------------- 9.7/15.5 MB 17.8 MB/s eta 0:00:01\n",
      "   --------------------------- ------------ 10.5/15.5 MB 18.2 MB/s eta 0:00:01\n",
      "   ----------------------------- ---------- 11.4/15.5 MB 18.7 MB/s eta 0:00:01\n",
      "   ------------------------------- -------- 12.3/15.5 MB 18.7 MB/s eta 0:00:01\n",
      "   ---------------------------------- ----- 13.2/15.5 MB 18.7 MB/s eta 0:00:01\n",
      "   ------------------------------------ --- 14.1/15.5 MB 18.7 MB/s eta 0:00:01\n",
      "   -------------------------------------- - 15.0/15.5 MB 19.3 MB/s eta 0:00:01\n",
      "   ---------------------------------------  15.5/15.5 MB 19.3 MB/s eta 0:00:01\n",
      "   ---------------------------------------  15.5/15.5 MB 19.3 MB/s eta 0:00:01\n",
      "   ---------------------------------------- 15.5/15.5 MB 17.2 MB/s eta 0:00:00\n",
      "Using cached pytz-2023.3.post1-py2.py3-none-any.whl (502 kB)\n",
      "Installing collected packages: pytz, tzdata, numpy, pandas\n",
      "Successfully installed numpy-1.26.2 pandas-2.1.3 pytz-2023.3.post1 tzdata-2023.3\n"
     ]
    }
   ],
   "source": [
    "%pip install pandas"
   ]
  },
  {
   "cell_type": "code",
   "execution_count": 6,
   "metadata": {},
   "outputs": [],
   "source": [
    "import pandas as pd"
   ]
  },
  {
   "cell_type": "code",
   "execution_count": null,
   "metadata": {},
   "outputs": [],
   "source": [
    "pd.DataFrame"
   ]
  }
 ],
 "metadata": {
  "kernelspec": {
   "display_name": "Python 3",
   "language": "python",
   "name": "python3"
  },
  "language_info": {
   "codemirror_mode": {
    "name": "ipython",
    "version": 3
   },
   "file_extension": ".py",
   "mimetype": "text/x-python",
   "name": "python",
   "nbconvert_exporter": "python",
   "pygments_lexer": "ipython3",
   "version": "3.12.0"
  }
 },
 "nbformat": 4,
 "nbformat_minor": 2
}
