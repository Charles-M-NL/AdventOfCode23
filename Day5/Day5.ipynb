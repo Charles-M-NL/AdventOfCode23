{
 "cells": [
  {
   "cell_type": "markdown",
   "metadata": {},
   "source": [
    "## Day 5: If You Give Your Seed A Fertilizer\n",
    "### Part 1:"
   ]
  },
  {
   "cell_type": "code",
   "execution_count": 1,
   "metadata": {},
   "outputs": [
    {
     "name": "stdout",
     "output_type": "stream",
     "text": [
      "The lowest location number that corresponds to any of the initial seed numbers is 88151870.\n"
     ]
    }
   ],
   "source": [
    "import regex as re\n",
    "\n",
    "# Open input\n",
    "with open('input.txt', 'r') as almanac:\n",
    "    almanac = almanac.read().split(\"\\n\\n\")\n",
    "\n",
    "# Isolate seed numbers\n",
    "seeds = re.findall(r'\\d+', almanac[0])\n",
    "\n",
    "# Initialize seed to location dict\n",
    "seed_to_location = {}\n",
    "\n",
    "for seed in seeds:\n",
    "    # Start the tracker at the seed number\n",
    "    tracker = int(seed)\n",
    "\n",
    "    for range_map in almanac[1:]:\n",
    "        ranges = range_map.split('\\n')[1:-1]\n",
    "\n",
    "        # Check if the tracker is present in one of the ranges\n",
    "        for line in ranges:\n",
    "            line = [int(i) for i in line.split(\" \")]\n",
    "\n",
    "            if tracker in range(line[1], line[1]+line[2]):\n",
    "                \n",
    "                # Update tracker and break the loop (update once per map)\n",
    "                tracker = tracker + (line[0]-line[1])\n",
    "                break\n",
    "    \n",
    "    # Add last tracker value (location map) to dictionary\n",
    "    seed_to_location[seed] = tracker\n",
    "\n",
    "# Print answer \n",
    "print(f'The lowest location number that corresponds to any of'\\\n",
    "      f' the initial seed numbers is {min(list(seed_to_location.values()))}.')"
   ]
  },
  {
   "cell_type": "markdown",
   "metadata": {},
   "source": [
    "### Part 2:"
   ]
  },
  {
   "cell_type": "code",
   "execution_count": 2,
   "metadata": {},
   "outputs": [
    {
     "name": "stdout",
     "output_type": "stream",
     "text": [
      "The lowest location number that corresponds to any of the initial seed numbers is 2008785.\n"
     ]
    }
   ],
   "source": [
    "# Open input\n",
    "with open('input.txt', 'r') as almanac:\n",
    "    almanac = almanac.read().split(\"\\n\\n\")\n",
    "\n",
    "# Isolate seed numbers\n",
    "seeds = [int(i) for i in re.findall(r'\\d+', almanac[0])]\n",
    "\n",
    "found_lowest = False\n",
    "location = -1\n",
    "\n",
    "# While it hasnt found a location that matches to a seed\n",
    "while not found_lowest:\n",
    "\n",
    "    location += 1\n",
    "\n",
    "    tracker = location\n",
    "\n",
    "    # Go backwards through the almanac\n",
    "    for range_map in almanac[:0:-1]:\n",
    "        ranges = range_map.split('\\n')[1:-1]\n",
    "\n",
    "        # Check if the tracker is present in one of the ranges\n",
    "        for line in ranges:\n",
    "            line = [int(k) for k in line.split(\" \")]\n",
    "            if tracker in range(line[0], line[0]+line[2]):\n",
    "                \n",
    "                # Update tracker and break the loop (update once per map)\n",
    "                tracker = tracker + (line[1]-line[0])\n",
    "                break\n",
    "\n",
    "    if tracker >= min(range(0, len(seeds), 2)):            \n",
    "        for j in range(0, len(seeds), 2):\n",
    "            if found_lowest == False:\n",
    "                if tracker in range(seeds[j], seeds[j]+seeds[j+1]):\n",
    "                    found_lowest = True\n",
    "                    break\n",
    "\n",
    "# Print answer\n",
    "print(f'The lowest location number that corresponds to any of'\\\n",
    "      f' the initial seed numbers is {location}.')"
   ]
  }
 ],
 "metadata": {
  "kernelspec": {
   "display_name": ".venv",
   "language": "python",
   "name": "python3"
  },
  "language_info": {
   "codemirror_mode": {
    "name": "ipython",
    "version": 3
   },
   "file_extension": ".py",
   "mimetype": "text/x-python",
   "name": "python",
   "nbconvert_exporter": "python",
   "pygments_lexer": "ipython3",
   "version": "3.12.0"
  }
 },
 "nbformat": 4,
 "nbformat_minor": 2
}
