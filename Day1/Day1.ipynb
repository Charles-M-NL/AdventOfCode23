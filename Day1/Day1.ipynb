{
 "cells": [
  {
   "cell_type": "markdown",
   "metadata": {},
   "source": [
    "## Day 1: Trebuchet?!\n",
    "### Part 1: "
   ]
  },
  {
   "cell_type": "code",
   "execution_count": 60,
   "metadata": {},
   "outputs": [
    {
     "name": "stdout",
     "output_type": "stream",
     "text": [
      "The sum of all of the calibration values is 56506\n"
     ]
    }
   ],
   "source": [
    "# import regex findall\n",
    "import regex as re\n",
    "\n",
    "# Open input:\n",
    "with open(\"input.txt\", \"r\") as logs:\n",
    "    logs = [log.strip() for log in logs.readlines()]\n",
    "\n",
    "# Initiate counter\n",
    "cal_sum = 0\n",
    "\n",
    "# Extract digits \n",
    "for log in logs:\n",
    "    digits = \"\".join(re.findall(r'\\d', log))\n",
    "    \n",
    "    # Combine first and last digits (calibration value)\n",
    "    cal_val = digits[0] + digits[-1]\n",
    "    \n",
    "    # Add to sum of calibration values\n",
    "    cal_sum += int(cal_val)\n",
    "\n",
    "# Print answer\n",
    "print(f\"The sum of all of the calibration values is {cal_sum}\")"
   ]
  },
  {
   "cell_type": "markdown",
   "metadata": {},
   "source": [
    "### Part 2:"
   ]
  },
  {
   "cell_type": "code",
   "execution_count": 61,
   "metadata": {},
   "outputs": [
    {
     "name": "stdout",
     "output_type": "stream",
     "text": [
      "The sum of all of the calibration values is 56017\n"
     ]
    }
   ],
   "source": [
    "# import regex findall\n",
    "import regex as re\n",
    "\n",
    "# Open input:\n",
    "with open(\"input.txt\", \"r\") as logs:\n",
    "    logs = [log.strip() for log in logs.readlines()]\n",
    "\n",
    "# Replace spelled-out numbers with digits (one -> 1)\n",
    "word_to_dit = {\"one\": \"1\", \"two\": \"2\", \"three\": \"3\", \"four\": \"4\", \"five\": \"5\", \"six\": \"6\", \"seven\": \"7\", \"eight\": \"8\",\n",
    "               \"nine\": \"9\"}\n",
    "\n",
    "# Initiate counter\n",
    "cal_sum = 0\n",
    "\n",
    "# Pattern to find words and digits\n",
    "# NOTE: Positive lookahead is used to 'not consume' the words after finding them\n",
    "# Example: \"twone23\" gives two23 without lookahead, but we need twoone23 which is provided by the pattern below\n",
    "pattern = re.compile(r'(?=('+'|'.join(word_to_dit.keys())+r'|\\d))')\n",
    "\n",
    "for log in logs:\n",
    "    digits = \"\".join(pattern.findall(log)) # Find written numbers and digits in log\n",
    "\n",
    "    # Translate the words to numbers\n",
    "    for word in word_to_dit.keys():\n",
    "        digits = re.sub(word, word_to_dit[word], digits)\n",
    "\n",
    "    # Combine and add    \n",
    "    cal_val = digits[0] + digits[-1]\n",
    "    cal_sum += int(cal_val)\n",
    "\n",
    "# Print answer\n",
    "print(f\"The sum of all of the calibration values is {cal_sum}\")"
   ]
  }
 ],
 "metadata": {
  "kernelspec": {
   "display_name": "Python 3",
   "language": "python",
   "name": "python3"
  },
  "language_info": {
   "codemirror_mode": {
    "name": "ipython",
    "version": 3
   },
   "file_extension": ".py",
   "mimetype": "text/x-python",
   "name": "python",
   "nbconvert_exporter": "python",
   "pygments_lexer": "ipython3",
   "version": "3.12.0"
  }
 },
 "nbformat": 4,
 "nbformat_minor": 2
}
