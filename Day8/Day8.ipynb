{
 "cells": [
  {
   "cell_type": "markdown",
   "metadata": {},
   "source": [
    "## Day 8: Haunted Wasteland\n",
    "### Part 1:"
   ]
  },
  {
   "cell_type": "code",
   "execution_count": 1,
   "metadata": {},
   "outputs": [
    {
     "name": "stdout",
     "output_type": "stream",
     "text": [
      "Starting at AAA, we reach ZZZ in 13939 steps.\n"
     ]
    }
   ],
   "source": [
    "import regex as re\n",
    "\n",
    "# Open input\n",
    "with open('input.txt', 'r') as directions:\n",
    "    directions = directions.read()\n",
    "\n",
    "# Starting and end locations\n",
    "start = \"AAA\"\n",
    "end = \"ZZZ\"\n",
    "\n",
    "location = start\n",
    "\n",
    "# Isolate Left/Right string\n",
    "left_right = directions.split(\"\\n\")[0]\n",
    "\n",
    "# Initiate step counter\n",
    "step_counter = 0\n",
    "\n",
    "while location != end:\n",
    "    \n",
    "    # Find directions from current location\n",
    "    pattern = re.compile(r'(?<=' + location + r' = \\()\\w+, \\w+')\n",
    "\n",
    "    # Go left or right\n",
    "    if left_right[step_counter % len(left_right)] == \"L\":\n",
    "        location = pattern.search(directions).group().split(\", \")[0]\n",
    "    else:\n",
    "        location = pattern.search(directions).group().split(\", \")[1]\n",
    "    \n",
    "    step_counter += 1\n",
    "\n",
    "# Print answer\n",
    "print(f'Starting at {start}, we reach {end} in {step_counter} steps.')"
   ]
  },
  {
   "cell_type": "markdown",
   "metadata": {},
   "source": [
    "### Part 2:"
   ]
  },
  {
   "cell_type": "code",
   "execution_count": 2,
   "metadata": {},
   "outputs": [
    {
     "name": "stdout",
     "output_type": "stream",
     "text": [
      "Starting at all locations ending with A, we reach all locations ending with Z after 8906539031197 steps.\n"
     ]
    }
   ],
   "source": [
    "import regex as re\n",
    "import math\n",
    "\n",
    "# Open input\n",
    "with open('input.txt', 'r') as directions:\n",
    "    directions = directions.read()\n",
    "\n",
    "# Starting and end locations\n",
    "start = \"A\"\n",
    "end = \"Z\"\n",
    "\n",
    "# Start at all nodes ending with A\n",
    "start_node_pattern = re.compile(r'\\w+' + start + r'(?= \\=)')\n",
    "locations = start_node_pattern.findall(directions)\n",
    "\n",
    "# Isolate Left/Right string\n",
    "left_right = directions.split(\"\\n\")[0]\n",
    "\n",
    "first_end_list = []\n",
    "\n",
    "# Find when each location finds the end (loops right back to start)\n",
    "for location in locations:\n",
    "    # Initiate step counter\n",
    "    step_counter = 0\n",
    "\n",
    "    while not location[-1] == \"Z\":\n",
    "        \n",
    "        # Find directions from current location\n",
    "        pattern = re.compile(r'(?<=' + location + r' = \\()\\w+, \\w+')\n",
    "\n",
    "        # Go left or right\n",
    "        if left_right[step_counter % len(left_right)] == \"L\":\n",
    "            location = pattern.search(directions).group().split(\", \")[0]\n",
    "        else:\n",
    "            location = pattern.search(directions).group().split(\", \")[1]\n",
    "        \n",
    "        step_counter += 1\n",
    "\n",
    "    first_end_list.append(step_counter)\n",
    "\n",
    "# Find Least common multiple and print answer\n",
    "print(f'Starting at all locations ending with {start}, we reach all locations' \\\n",
    "      f' ending with {end} after {math.lcm(*first_end_list)} steps.')"
   ]
  }
 ],
 "metadata": {
  "kernelspec": {
   "display_name": ".venv",
   "language": "python",
   "name": "python3"
  },
  "language_info": {
   "codemirror_mode": {
    "name": "ipython",
    "version": 3
   },
   "file_extension": ".py",
   "mimetype": "text/x-python",
   "name": "python",
   "nbconvert_exporter": "python",
   "pygments_lexer": "ipython3",
   "version": "3.12.0"
  }
 },
 "nbformat": 4,
 "nbformat_minor": 2
}
