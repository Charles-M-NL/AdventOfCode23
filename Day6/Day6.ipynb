{
 "cells": [
  {
   "cell_type": "markdown",
   "metadata": {},
   "source": [
    "## Day 6: Wait For It\n",
    "### Part 1:"
   ]
  },
  {
   "cell_type": "code",
   "execution_count": 1,
   "metadata": {},
   "outputs": [
    {
     "name": "stdout",
     "output_type": "stream",
     "text": [
      "Multiplying the number of ways we could beat the record in each race toghether gives us a score of 440000.\n"
     ]
    }
   ],
   "source": [
    "import regex as re\n",
    "import numpy as np\n",
    "\n",
    "# Open input\n",
    "with open('input.txt', 'r') as boat_races:\n",
    "    boat_races = [line.strip() for line in boat_races.readlines()]\n",
    "\n",
    "# Isolate times and distance records\n",
    "times = [int(i) for i in re.findall(r'\\d+', boat_races[0])]\n",
    "records = [int(j) for j in re.findall(r'\\d+', boat_races[1])]\n",
    "\n",
    "# Initiate counter\n",
    "ways_to_win = []\n",
    "\n",
    "for race in range(len(times)):\n",
    "    beat_the_record = 0\n",
    "    # Check if holding the button for any period of time beats the record\n",
    "    for time in range(times[race] + 1):\n",
    "        if (times[race] - time) * time > records[race]:\n",
    "            beat_the_record += 1\n",
    "    ways_to_win.append(beat_the_record)\n",
    "\n",
    "# Print answer\n",
    "print(f'Multiplying the number of ways we could beat the record in each race'\\\n",
    "      f' together gives us a score of {np.prod(ways_to_win)}.')"
   ]
  },
  {
   "cell_type": "markdown",
   "metadata": {},
   "source": [
    "### Part 2:"
   ]
  },
  {
   "cell_type": "code",
   "execution_count": 2,
   "metadata": {},
   "outputs": [
    {
     "name": "stdout",
     "output_type": "stream",
     "text": [
      "We can beat the record in this one much longer race in 26187338 ways.\n"
     ]
    }
   ],
   "source": [
    "import regex as re\n",
    "\n",
    "# Open input\n",
    "with open('input.txt', 'r') as boat_races:\n",
    "    boat_races = [line.strip() for line in boat_races.readlines()]\n",
    "\n",
    "# Isolate time and distance record\n",
    "time = int(\"\".join([i for i in re.findall(r'\\d+', boat_races[0])]))\n",
    "record = int(\"\".join([j for j in re.findall(r'\\d+', boat_races[1])]))\n",
    "\n",
    "# Find start of record-beating range\n",
    "beats_record = False\n",
    "button_time = 0\n",
    "start_time = 0\n",
    "\n",
    "while not beats_record:\n",
    "    if (time - button_time) * button_time > record:\n",
    "        beats_record = True\n",
    "        start_time = button_time\n",
    "    else:\n",
    "        button_time += 1\n",
    "\n",
    "# Find end of record-beating range\n",
    "beats_record = False\n",
    "button_time = time\n",
    "end_time = 0\n",
    "\n",
    "while not beats_record:\n",
    "    if (time - button_time) * button_time > record:\n",
    "        beats_record = True\n",
    "        end_time = button_time\n",
    "    else:\n",
    "        button_time -= 1\n",
    "\n",
    "# Print answer\n",
    "print(f'We can beat the record in this one much longer race in'\\\n",
    "      f' {len(range(start_time, end_time + 1))} ways.')"
   ]
  }
 ],
 "metadata": {
  "kernelspec": {
   "display_name": ".venv",
   "language": "python",
   "name": "python3"
  },
  "language_info": {
   "codemirror_mode": {
    "name": "ipython",
    "version": 3
   },
   "file_extension": ".py",
   "mimetype": "text/x-python",
   "name": "python",
   "nbconvert_exporter": "python",
   "pygments_lexer": "ipython3",
   "version": "3.12.0"
  }
 },
 "nbformat": 4,
 "nbformat_minor": 2
}
