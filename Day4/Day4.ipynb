{
 "cells": [
  {
   "cell_type": "markdown",
   "metadata": {},
   "source": [
    "## Day 4: Scratchcards\n",
    "### Part 1:"
   ]
  },
  {
   "cell_type": "code",
   "execution_count": 1,
   "metadata": {},
   "outputs": [
    {
     "name": "stdout",
     "output_type": "stream",
     "text": [
      "The scratchcards were worth 25004 points in total.\n"
     ]
    }
   ],
   "source": [
    "import regex as re\n",
    "\n",
    "# Open scratchcards input\n",
    "with open('input.txt', 'r') as cards:\n",
    "    cards = [card.strip() for card in cards.readlines()]\n",
    "\n",
    "# Initiate counter\n",
    "total_worth = 0\n",
    "\n",
    "for card in cards:\n",
    "\n",
    "    # Isolate winning and our numbers\n",
    "    winning_nums = re.findall(r\"\\d+\", card.split(\":\")[1].split(\"|\")[0])\n",
    "    my_nums = re.findall(r\"\\d+\", card.split(\":\")[1].split(\"|\")[1])\n",
    "\n",
    "    # If there are matching numbers\n",
    "    if (set(winning_nums) & set(my_nums)):\n",
    "\n",
    "        # Calculate card score and add to total\n",
    "        card_score = 2**(len(set(winning_nums) & set(my_nums)) - 1)\n",
    "        total_worth += card_score\n",
    "\n",
    "# Print answer\n",
    "print(f\"The scratchcards were worth {total_worth} points in total.\")"
   ]
  },
  {
   "cell_type": "markdown",
   "metadata": {},
   "source": [
    "### Part 2:"
   ]
  },
  {
   "cell_type": "code",
   "execution_count": 2,
   "metadata": {},
   "outputs": [
    {
     "name": "stdout",
     "output_type": "stream",
     "text": [
      "We end up with 14427616 total card copies.\n"
     ]
    }
   ],
   "source": [
    "import regex as re\n",
    "\n",
    "# Open scratchcards input\n",
    "with open('input.txt', 'r') as cards:\n",
    "    cards = [card.strip() for card in cards.readlines()]\n",
    "\n",
    "# Initiate counter\n",
    "card_copies = {}\n",
    "\n",
    "for i in range(0, len(cards)):\n",
    "\n",
    "    card_id = i + 1\n",
    "\n",
    "    # Add original card to the dictionary\n",
    "    if str(card_id) in card_copies:\n",
    "        card_copies[str(card_id)] += 1\n",
    "    else:\n",
    "        card_copies[str(card_id)] = 1\n",
    "\n",
    "    # Isolate winning and our numbers\n",
    "    winning_nums = re.findall(r\"\\d+\", cards[i].split(\":\")[1].split(\"|\")[0])\n",
    "    my_nums = re.findall(r\"\\d+\", cards[i].split(\":\")[1].split(\"|\")[1])\n",
    "\n",
    "    # If there are matching numbers\n",
    "    if (set(winning_nums) & set(my_nums)):\n",
    "\n",
    "        # Update the amount of copies for as many cards ahead as there were matching numbers\n",
    "        for j in range(1, len(set(winning_nums) & set(my_nums)) + 1):\n",
    "            if str(card_id+j) in card_copies:\n",
    "                card_copies[str(card_id+j)] += card_copies[str(card_id)]\n",
    "            else:\n",
    "                card_copies[str(card_id+j)] = card_copies[str(card_id)]\n",
    "\n",
    "# Print answer\n",
    "print(f'We end up with {sum(card_copies.values())} total card copies.')"
   ]
  }
 ],
 "metadata": {
  "kernelspec": {
   "display_name": ".venv",
   "language": "python",
   "name": "python3"
  },
  "language_info": {
   "codemirror_mode": {
    "name": "ipython",
    "version": 3
   },
   "file_extension": ".py",
   "mimetype": "text/x-python",
   "name": "python",
   "nbconvert_exporter": "python",
   "pygments_lexer": "ipython3",
   "version": "3.12.0"
  }
 },
 "nbformat": 4,
 "nbformat_minor": 2
}
