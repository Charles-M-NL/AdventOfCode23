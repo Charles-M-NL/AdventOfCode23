{
 "cells": [
  {
   "cell_type": "markdown",
   "metadata": {},
   "source": [
    "## Day 2: Cube Conundrum\n",
    "### Part 1:"
   ]
  },
  {
   "cell_type": "code",
   "execution_count": 1,
   "metadata": {},
   "outputs": [
    {
     "name": "stdout",
     "output_type": "stream",
     "text": [
      "The sum of the game IDs that were possible given the contents of the bag is 2169.\n"
     ]
    }
   ],
   "source": [
    "import regex as re\n",
    "\n",
    "# Open input\n",
    "with open('input.txt', \"r\") as games:\n",
    "    games = games.read().split('\\n')[:-1] # List of games\n",
    "\n",
    "# Define bag contents\n",
    "bag_contents = {'red': 12, 'green': 13, 'blue': 14}\n",
    "\n",
    "# Initialize id_sum variable\n",
    "possible_id_sum = 0\n",
    "\n",
    "for game in games:\n",
    "\n",
    "    # Find game ID (digits that are preceded by \"Game \")\n",
    "    game_id = int(re.search(r'(?<=Game )\\d+', game).group())\n",
    "\n",
    "    # Initiate possible variable to break the loop if irregularity is found\n",
    "    possible = True\n",
    "\n",
    "    for color in bag_contents.keys():\n",
    "\n",
    "        # Check if another color already impossible\n",
    "        if possible == False: \n",
    "            break\n",
    "\n",
    "        # Find numbers of cubes shown for specific color\n",
    "        pattern = re.compile(r'\\d+(?= ' + color + ')')\n",
    "        number_shown = pattern.findall(game)\n",
    "\n",
    "        # Check if more than possible have been shown\n",
    "        if max([int(i) for i in number_shown]) > bag_contents[color]:\n",
    "            possible = False \n",
    "\n",
    "    # If game is possible, add game_ID to the counter\n",
    "    if possible: \n",
    "        possible_id_sum += game_id \n",
    "\n",
    "# Print answer\n",
    "print(f'The sum of the game IDs that were possible given the contents of the bag is {possible_id_sum}.')   "
   ]
  },
  {
   "cell_type": "markdown",
   "metadata": {},
   "source": [
    "### Part 2:"
   ]
  },
  {
   "cell_type": "code",
   "execution_count": 2,
   "metadata": {},
   "outputs": [
    {
     "name": "stdout",
     "output_type": "stream",
     "text": [
      "The sum of the powers of the sets is 60948.\n"
     ]
    }
   ],
   "source": [
    "import regex as re\n",
    "import numpy as np\n",
    "\n",
    "# Open input\n",
    "with open('input.txt', \"r\") as games:\n",
    "    games = games.read().split('\\n')[:-1] # List of games\n",
    "\n",
    "# Initialize sum_of_power variable\n",
    "sum_of_power = 0\n",
    "\n",
    "for game in games:\n",
    "    \n",
    "    # Initialize color values\n",
    "    max_shown = {'red': 0, 'green': 0, 'blue': 0}\n",
    "\n",
    "    for color in max_shown.keys():\n",
    "\n",
    "        # Find numbers of cubes shown for specific color\n",
    "        pattern = re.compile(r'\\d+(?= ' + color + ')')\n",
    "        number_shown = pattern.findall(game)\n",
    "\n",
    "        # Minimum needed = Max value shown\n",
    "        max_shown[color] = max([int(i) for i in number_shown])\n",
    "\n",
    "    # Multiply max shown values for each color and add product to counter\n",
    "    sum_of_power += np.prod(list(max_shown.values()))\n",
    "\n",
    "# Print answer\n",
    "print(f'The sum of the powers of the sets is {sum_of_power}.')  "
   ]
  }
 ],
 "metadata": {
  "kernelspec": {
   "display_name": ".venv",
   "language": "python",
   "name": "python3"
  },
  "language_info": {
   "codemirror_mode": {
    "name": "ipython",
    "version": 3
   },
   "file_extension": ".py",
   "mimetype": "text/x-python",
   "name": "python",
   "nbconvert_exporter": "python",
   "pygments_lexer": "ipython3",
   "version": "3.12.0"
  }
 },
 "nbformat": 4,
 "nbformat_minor": 2
}
