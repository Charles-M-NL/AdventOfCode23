{
 "cells": [
  {
   "cell_type": "markdown",
   "metadata": {},
   "source": [
    "## Day 11: Cosmic Expansion\n",
    "### Part 1:"
   ]
  },
  {
   "cell_type": "code",
   "execution_count": 1,
   "metadata": {},
   "outputs": [
    {
     "name": "stdout",
     "output_type": "stream",
     "text": [
      "Taking the expansion of the universe into account, the sum of the lengths between all the galaxies is 9565386.\n"
     ]
    }
   ],
   "source": [
    "import regex as re\n",
    "\n",
    "# Open input\n",
    "with open('input.txt', 'r') as universe:\n",
    "    universe = universe.read().split('\\n')[:-1]\n",
    "\n",
    "# Expand universe\n",
    "nrow = 0\n",
    "ncol = 0\n",
    "\n",
    "while nrow < len(universe):\n",
    "    if \"#\" not in universe[nrow]:\n",
    "        universe.insert(nrow, universe[nrow])\n",
    "        nrow += 1\n",
    "    nrow += 1\n",
    "    \n",
    "while ncol < len(universe[0]):\n",
    "    if \"#\" not in [row[ncol] for row in universe]:\n",
    "        for i in range(len(universe)):\n",
    "            universe[i] = universe[i][:ncol] + \".\" + universe[i][ncol:]\n",
    "        ncol += 1\n",
    "    ncol += 1\n",
    "\n",
    "# Find galaxy coordinates \n",
    "galaxy_coords = []\n",
    "\n",
    "for nrow in range(len(universe)):\n",
    "    for galaxy in re.finditer(r\"#\", universe[nrow]):\n",
    "        galaxy_coords.append([nrow, galaxy.start()])\n",
    "\n",
    "# Initiate shortest_distance_sum\n",
    "dist_sum = 0\n",
    "\n",
    "# For each galaxy, find the shortest route to all the other ones\n",
    "for i in range(len(galaxy_coords[:-1])):\n",
    "    dist_sum += sum([abs(galaxy_coords[i][0] - other_galaxy[0]) + \\\n",
    "                     abs(galaxy_coords[i][1] - other_galaxy[1]) \\\n",
    "                     for other_galaxy in galaxy_coords[i + 1:]])\n",
    "\n",
    "# Print answer\n",
    "print(f'Taking the expansion of the universe into account, the sum of the' \\\n",
    "      f' lengths between all the galaxies is {dist_sum}.')"
   ]
  },
  {
   "cell_type": "markdown",
   "metadata": {},
   "source": [
    "### Part 2:"
   ]
  },
  {
   "cell_type": "code",
   "execution_count": 2,
   "metadata": {},
   "outputs": [
    {
     "name": "stdout",
     "output_type": "stream",
     "text": [
      "Taking the enormous expansion of the universe into account, the sum of the lengths between all the galaxies is 857986849428.\n"
     ]
    }
   ],
   "source": [
    "import regex as re\n",
    "\n",
    "# Open input\n",
    "with open('input.txt', 'r') as universe:\n",
    "    universe = universe.read().split('\\n')[:-1]\n",
    "\n",
    "# Expand universe. Each M stands for a million rows or columns\n",
    "nrow = 0\n",
    "ncol = 0\n",
    "\n",
    "while nrow < len(universe):\n",
    "    if \"#\" not in universe[nrow]:\n",
    "        universe[nrow] = \"M\" * len(universe[nrow])\n",
    "    nrow += 1\n",
    "\n",
    "while ncol < len(universe[0]):\n",
    "    if \"#\" not in [row[ncol] for row in universe]:\n",
    "        for i in range(len(universe)):\n",
    "            universe[i] = universe[i][:ncol] + \"M\" + universe[i][ncol + 1:]\n",
    "    ncol += 1\n",
    "\n",
    "# Find galaxy coordinates \n",
    "galaxy_coords = []\n",
    "\n",
    "for nrow in range(len(universe)):\n",
    "    for galaxy in re.finditer(r\"#\", universe[nrow]):\n",
    "        galaxy_coords.append([nrow, galaxy.start()])\n",
    "\n",
    "# Initiate shortest_distance_sum\n",
    "dist_sum = 0\n",
    "\n",
    "# For each galaxy, find the shortest route to all the other ones\n",
    "for i in range(len(galaxy_coords[:-1])):\n",
    "    for other_galaxy in galaxy_coords[i + 1:]:\n",
    "        dist_sum += abs(galaxy_coords[i][0] - other_galaxy[0]) + \\\n",
    "                    abs(galaxy_coords[i][1] - other_galaxy[1]) + \\\n",
    "                    999999 * universe[galaxy_coords[i][0]][min([galaxy_coords[i][1], other_galaxy[1]]):max([galaxy_coords[i][1], other_galaxy[1]])].count(\"M\") + \\\n",
    "                    999999 * [row[galaxy_coords[i][1]] for row in universe[min([galaxy_coords[i][0], other_galaxy[0]]):max([galaxy_coords[i][0], other_galaxy[0]])]].count(\"M\")\n",
    "\n",
    "# Print answer\n",
    "print(f'Taking the enormous expansion of the universe into account, the sum of the' \\\n",
    "      f' lengths between all the galaxies is {dist_sum}.')"
   ]
  }
 ],
 "metadata": {
  "kernelspec": {
   "display_name": "Python 3",
   "language": "python",
   "name": "python3"
  },
  "language_info": {
   "codemirror_mode": {
    "name": "ipython",
    "version": 3
   },
   "file_extension": ".py",
   "mimetype": "text/x-python",
   "name": "python",
   "nbconvert_exporter": "python",
   "pygments_lexer": "ipython3",
   "version": "3.12.0"
  }
 },
 "nbformat": 4,
 "nbformat_minor": 2
}
