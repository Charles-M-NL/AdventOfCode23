{
 "cells": [
  {
   "cell_type": "markdown",
   "metadata": {},
   "source": [
    "## Day 9: Mirage Maintenance\n",
    "### Part 1:"
   ]
  },
  {
   "cell_type": "code",
   "execution_count": 26,
   "metadata": {},
   "outputs": [
    {
     "name": "stdout",
     "output_type": "stream",
     "text": [
      "The sum of the extrapolated values is 1930746032.\n"
     ]
    }
   ],
   "source": [
    "import numpy as np\n",
    "from tqdm import tqdm\n",
    "\n",
    "# Open input\n",
    "with open('input.txt', \"r\") as readings:\n",
    "    readings = [read.strip() for read in readings.readlines()]\n",
    "\n",
    "# Initiate counter for sum of extrapolated values\n",
    "extrapolated_sum = 0\n",
    "\n",
    "for reading in readings:\n",
    "\n",
    "    # Calculate differences untill only zeroes\n",
    "    reading = [[int(i) for i in reading.split(\" \")]]\n",
    "    \n",
    "    while reading[-1] != [0 for j in range(len(reading[-1]))]:\n",
    "        reading.append(list(np.subtract(reading[-1][1:], reading[-1][:-1])))\n",
    "\n",
    "    # Extrapolate next value\n",
    "    for k in range(0, len(reading))[-2::-1]:\n",
    "        reading[k].append(reading[k][-1] + reading[k + 1][-1])\n",
    "    \n",
    "    extrapolated_sum += reading[0][-1]\n",
    "\n",
    "# Print answer\n",
    "print(f'The sum of the extrapolated values is {extrapolated_sum}.')"
   ]
  },
  {
   "cell_type": "markdown",
   "metadata": {},
   "source": [
    "### Part 2:"
   ]
  },
  {
   "cell_type": "code",
   "execution_count": null,
   "metadata": {},
   "outputs": [],
   "source": []
  }
 ],
 "metadata": {
  "kernelspec": {
   "display_name": "Python 3",
   "language": "python",
   "name": "python3"
  },
  "language_info": {
   "codemirror_mode": {
    "name": "ipython",
    "version": 3
   },
   "file_extension": ".py",
   "mimetype": "text/x-python",
   "name": "python",
   "nbconvert_exporter": "python",
   "pygments_lexer": "ipython3",
   "version": "3.12.0"
  }
 },
 "nbformat": 4,
 "nbformat_minor": 2
}
